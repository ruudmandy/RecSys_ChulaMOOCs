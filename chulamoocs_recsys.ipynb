{
 "cells": [
  {
   "cell_type": "code",
   "execution_count": 18,
   "metadata": {
    "id": "jdGIODMdxFnr"
   },
   "outputs": [],
   "source": [
    "import numpy as np\n",
    "import pandas as pd\n",
    "import matplotlib.pyplot as plt\n",
    "import seaborn as sns\n",
    "import math\n",
    "from numpy import dot\n",
    "from numpy.linalg import norm\n",
    "import time\n",
    "import datetime"
   ]
  },
  {
   "cell_type": "code",
   "execution_count": 19,
   "metadata": {
    "colab": {
     "base_uri": "https://localhost:8080/",
     "height": 459
    },
    "id": "a-1mEbP7xhHd",
    "outputId": "ff913830-5b6a-42e6-a2cd-6f38b0e82230"
   },
   "outputs": [],
   "source": [
    "cvocp_user_course_timing=pd.read_csv('chulamoocs/01_cvocp_user_course_timing_masked.csv')\n",
    "cvocp_user_test_score=pd.read_csv('chulamoocs/02_cvocp_user_test_score_masked.csv')\n",
    "cvocp_course=pd.read_csv('chulamoocs/03_cvocp_course_masked.csv')\n",
    "cv_course_poster=pd.read_csv('chulamoocs/04_courseville_course_poster_masked.csv')\n",
    "cvocp_user_info=pd.read_csv('chulamoocs/05_cvocp_user_info_masked.csv')\n",
    "cv_content_video=pd.read_csv('chulamoocs/06_courseville_content_video_masked.csv')\n"
   ]
  },
  {
   "cell_type": "code",
   "execution_count": 20,
   "metadata": {
    "colab": {
     "base_uri": "https://localhost:8080/",
     "height": 255
    },
    "id": "bJS9lm7vxj8h",
    "outputId": "a4cdaeec-1010-4957-a112-f12a516a8e1d"
   },
   "outputs": [
    {
     "name": "stdout",
     "output_type": "stream",
     "text": [
      "<class 'pandas.core.frame.DataFrame'>\n",
      "RangeIndex: 1049508 entries, 0 to 1049507\n",
      "Data columns (total 7 columns):\n",
      "record_id      1049508 non-null int64\n",
      "cv_uid         1049508 non-null object\n",
      "cv_cid         1049508 non-null object\n",
      "action_type    1049508 non-null object\n",
      "assoc_id       1049508 non-null object\n",
      "assoc_id2      1049508 non-null object\n",
      "timestamp      1049508 non-null int64\n",
      "dtypes: int64(2), object(5)\n",
      "memory usage: 56.0+ MB\n"
     ]
    }
   ],
   "source": [
    "cvocp_user_course_timing.info()"
   ]
  },
  {
   "cell_type": "code",
   "execution_count": 21,
   "metadata": {
    "colab": {
     "base_uri": "https://localhost:8080/",
     "height": 238
    },
    "id": "JSwvkB9l3xv8",
    "outputId": "c6c8e368-5dbe-4c6d-8167-649785a3f0c1"
   },
   "outputs": [
    {
     "name": "stdout",
     "output_type": "stream",
     "text": [
      "<class 'pandas.core.frame.DataFrame'>\n",
      "RangeIndex: 375140 entries, 0 to 375139\n",
      "Data columns (total 6 columns):\n",
      "user_test_score_id    375140 non-null int64\n",
      "cv_uid                375140 non-null object\n",
      "test_nid              375140 non-null object\n",
      "sub_id                375140 non-null object\n",
      "point                 375140 non-null int64\n",
      "total                 375140 non-null int64\n",
      "dtypes: int64(3), object(3)\n",
      "memory usage: 17.2+ MB\n"
     ]
    }
   ],
   "source": [
    "cvocp_user_test_score.info()"
   ]
  },
  {
   "cell_type": "code",
   "execution_count": 22,
   "metadata": {
    "colab": {
     "base_uri": "https://localhost:8080/",
     "height": 374
    },
    "id": "soPmL3c73yFt",
    "outputId": "cceb7c8a-a233-484b-80d0-c146d0e47280"
   },
   "outputs": [
    {
     "name": "stdout",
     "output_type": "stream",
     "text": [
      "<class 'pandas.core.frame.DataFrame'>\n",
      "RangeIndex: 175 entries, 0 to 174\n",
      "Data columns (total 14 columns):\n",
      "cv_cid               175 non-null object\n",
      "course_title         175 non-null object\n",
      "course_no            175 non-null object\n",
      "year                 175 non-null int64\n",
      "semester             175 non-null int64\n",
      "instructor_string    159 non-null object\n",
      "course_start         175 non-null int64\n",
      "course_end           175 non-null int64\n",
      "reg_start            175 non-null int64\n",
      "reg_end              175 non-null int64\n",
      "roster_limit         175 non-null int64\n",
      "reg_workflow         175 non-null object\n",
      "course_type          175 non-null object\n",
      "status               175 non-null int64\n",
      "dtypes: int64(8), object(6)\n",
      "memory usage: 19.3+ KB\n"
     ]
    }
   ],
   "source": [
    "cvocp_course.info()"
   ]
  },
  {
   "cell_type": "code",
   "execution_count": 23,
   "metadata": {
    "colab": {
     "base_uri": "https://localhost:8080/",
     "height": 204
    },
    "id": "UuO0X05d3yj8",
    "outputId": "e027b9a0-e4af-40d8-df93-d197acde1adb"
   },
   "outputs": [
    {
     "name": "stdout",
     "output_type": "stream",
     "text": [
      "<class 'pandas.core.frame.DataFrame'>\n",
      "RangeIndex: 175 entries, 0 to 174\n",
      "Data columns (total 4 columns):\n",
      "cv_cid                175 non-null object\n",
      "course_pretitle       175 non-null object\n",
      "course_title          174 non-null object\n",
      "course_description    155 non-null object\n",
      "dtypes: object(4)\n",
      "memory usage: 5.6+ KB\n"
     ]
    }
   ],
   "source": [
    "cv_course_poster.info()"
   ]
  },
  {
   "cell_type": "code",
   "execution_count": 24,
   "metadata": {
    "colab": {
     "base_uri": "https://localhost:8080/",
     "height": 238
    },
    "id": "8DXUow9n3yP2",
    "outputId": "78bce3fb-3d95-4bec-8592-a07a9dc34f5c"
   },
   "outputs": [
    {
     "name": "stdout",
     "output_type": "stream",
     "text": [
      "<class 'pandas.core.frame.DataFrame'>\n",
      "RangeIndex: 51036 entries, 0 to 51035\n",
      "Data columns (total 6 columns):\n",
      "cv_uid         51036 non-null object\n",
      "education      51035 non-null object\n",
      "occupation     51035 non-null object\n",
      "gender         51035 non-null object\n",
      "yearofbirth    51035 non-null float64\n",
      "residence      51035 non-null object\n",
      "dtypes: float64(1), object(5)\n",
      "memory usage: 2.3+ MB\n"
     ]
    }
   ],
   "source": [
    "cvocp_user_info.info()"
   ]
  },
  {
   "cell_type": "code",
   "execution_count": 25,
   "metadata": {
    "colab": {
     "base_uri": "https://localhost:8080/",
     "height": 187
    },
    "id": "6nWRnjog3x8M",
    "outputId": "07a9efbd-ed7a-45a3-b191-eb06ae2947ef"
   },
   "outputs": [
    {
     "name": "stdout",
     "output_type": "stream",
     "text": [
      "<class 'pandas.core.frame.DataFrame'>\n",
      "RangeIndex: 2683 entries, 0 to 2682\n",
      "Data columns (total 3 columns):\n",
      "v_id               2683 non-null object\n",
      "cv_cid             2683 non-null object\n",
      "video_source_id    2683 non-null object\n",
      "dtypes: object(3)\n",
      "memory usage: 63.0+ KB\n"
     ]
    }
   ],
   "source": [
    "cv_content_video.info()"
   ]
  },
  {
   "cell_type": "code",
   "execution_count": 26,
   "metadata": {
    "colab": {
     "base_uri": "https://localhost:8080/",
     "height": 224
    },
    "id": "ZYpSOp_A8KTX",
    "outputId": "f3162b91-5694-4665-b88b-6b7e02bd70a6"
   },
   "outputs": [
    {
     "data": {
      "text/html": [
       "<div>\n",
       "<style scoped>\n",
       "    .dataframe tbody tr th:only-of-type {\n",
       "        vertical-align: middle;\n",
       "    }\n",
       "\n",
       "    .dataframe tbody tr th {\n",
       "        vertical-align: top;\n",
       "    }\n",
       "\n",
       "    .dataframe thead th {\n",
       "        text-align: right;\n",
       "    }\n",
       "</style>\n",
       "<table border=\"1\" class=\"dataframe\">\n",
       "  <thead>\n",
       "    <tr style=\"text-align: right;\">\n",
       "      <th></th>\n",
       "      <th>record_id</th>\n",
       "      <th>cv_uid</th>\n",
       "      <th>cv_cid</th>\n",
       "      <th>action_type</th>\n",
       "      <th>assoc_id</th>\n",
       "      <th>assoc_id2</th>\n",
       "      <th>timestamp</th>\n",
       "    </tr>\n",
       "  </thead>\n",
       "  <tbody>\n",
       "    <tr>\n",
       "      <td>0</td>\n",
       "      <td>1</td>\n",
       "      <td>KP0XGECF1SGVOS2O24VF</td>\n",
       "      <td>UMF4ZAMAJ3UAKSY5URJR</td>\n",
       "      <td>quiz_submitted</td>\n",
       "      <td>JMYCQPQ9ZCPXEEEMSHIH</td>\n",
       "      <td>SRGWN4LOSQEK8A51ENFQ</td>\n",
       "      <td>1530413688</td>\n",
       "    </tr>\n",
       "    <tr>\n",
       "      <td>1</td>\n",
       "      <td>2</td>\n",
       "      <td>KP0XGECF1SGVOS2O24VF</td>\n",
       "      <td>UMF4ZAMAJ3UAKSY5URJR</td>\n",
       "      <td>quiz_submitted</td>\n",
       "      <td>JMYCQPQ9ZCPXEEEMSHIH</td>\n",
       "      <td>SRGWN4LOSQEK8A51ENFQ</td>\n",
       "      <td>1530413709</td>\n",
       "    </tr>\n",
       "    <tr>\n",
       "      <td>2</td>\n",
       "      <td>3</td>\n",
       "      <td>KP0XGECF1SGVOS2O24VF</td>\n",
       "      <td>UMF4ZAMAJ3UAKSY5URJR</td>\n",
       "      <td>quiz_submitted</td>\n",
       "      <td>JMYCQPQ9ZCPXEEEMSHIH</td>\n",
       "      <td>SRGWN4LOSQEK8A51ENFQ</td>\n",
       "      <td>1530413724</td>\n",
       "    </tr>\n",
       "    <tr>\n",
       "      <td>3</td>\n",
       "      <td>4</td>\n",
       "      <td>KP0XGECF1SGVOS2O24VF</td>\n",
       "      <td>UMF4ZAMAJ3UAKSY5URJR</td>\n",
       "      <td>quiz_submitted</td>\n",
       "      <td>JMYCQPQ9ZCPXEEEMSHIH</td>\n",
       "      <td>SRGWN4LOSQEK8A51ENFQ</td>\n",
       "      <td>1530413741</td>\n",
       "    </tr>\n",
       "    <tr>\n",
       "      <td>4</td>\n",
       "      <td>5</td>\n",
       "      <td>KH8UA5P183ESRY8BQSNP</td>\n",
       "      <td>7M978UYOQ7J2A0EGDK3D</td>\n",
       "      <td>quiz_opened</td>\n",
       "      <td>83PK3M4EQRNVOPDASXCL</td>\n",
       "      <td>7LSY9RBX6NM0NX4RC4RY</td>\n",
       "      <td>1530413927</td>\n",
       "    </tr>\n",
       "  </tbody>\n",
       "</table>\n",
       "</div>"
      ],
      "text/plain": [
       "   record_id                cv_uid                cv_cid     action_type  \\\n",
       "0          1  KP0XGECF1SGVOS2O24VF  UMF4ZAMAJ3UAKSY5URJR  quiz_submitted   \n",
       "1          2  KP0XGECF1SGVOS2O24VF  UMF4ZAMAJ3UAKSY5URJR  quiz_submitted   \n",
       "2          3  KP0XGECF1SGVOS2O24VF  UMF4ZAMAJ3UAKSY5URJR  quiz_submitted   \n",
       "3          4  KP0XGECF1SGVOS2O24VF  UMF4ZAMAJ3UAKSY5URJR  quiz_submitted   \n",
       "4          5  KH8UA5P183ESRY8BQSNP  7M978UYOQ7J2A0EGDK3D     quiz_opened   \n",
       "\n",
       "               assoc_id             assoc_id2   timestamp  \n",
       "0  JMYCQPQ9ZCPXEEEMSHIH  SRGWN4LOSQEK8A51ENFQ  1530413688  \n",
       "1  JMYCQPQ9ZCPXEEEMSHIH  SRGWN4LOSQEK8A51ENFQ  1530413709  \n",
       "2  JMYCQPQ9ZCPXEEEMSHIH  SRGWN4LOSQEK8A51ENFQ  1530413724  \n",
       "3  JMYCQPQ9ZCPXEEEMSHIH  SRGWN4LOSQEK8A51ENFQ  1530413741  \n",
       "4  83PK3M4EQRNVOPDASXCL  7LSY9RBX6NM0NX4RC4RY  1530413927  "
      ]
     },
     "execution_count": 26,
     "metadata": {},
     "output_type": "execute_result"
    }
   ],
   "source": [
    "cvocp_user_course_timing.head()\n",
    "# cat feature - action_type\n",
    "# timestamp -> time diff\n",
    "# create new table mapping_user_course for mapping user and course \n",
    "# recommend courseid to user!? n-courses??"
   ]
  },
  {
   "cell_type": "code",
   "execution_count": 27,
   "metadata": {
    "colab": {
     "base_uri": "https://localhost:8080/",
     "height": 224
    },
    "id": "80FwZkXW86_1",
    "outputId": "225aeecc-8b25-46b1-a0f8-2ef967e03a14"
   },
   "outputs": [
    {
     "data": {
      "text/html": [
       "<div>\n",
       "<style scoped>\n",
       "    .dataframe tbody tr th:only-of-type {\n",
       "        vertical-align: middle;\n",
       "    }\n",
       "\n",
       "    .dataframe tbody tr th {\n",
       "        vertical-align: top;\n",
       "    }\n",
       "\n",
       "    .dataframe thead th {\n",
       "        text-align: right;\n",
       "    }\n",
       "</style>\n",
       "<table border=\"1\" class=\"dataframe\">\n",
       "  <thead>\n",
       "    <tr style=\"text-align: right;\">\n",
       "      <th></th>\n",
       "      <th>user_test_score_id</th>\n",
       "      <th>cv_uid</th>\n",
       "      <th>test_nid</th>\n",
       "      <th>sub_id</th>\n",
       "      <th>point</th>\n",
       "      <th>total</th>\n",
       "    </tr>\n",
       "  </thead>\n",
       "  <tbody>\n",
       "    <tr>\n",
       "      <td>0</td>\n",
       "      <td>1</td>\n",
       "      <td>GEW2S6U24ZMJTSJLEPTK</td>\n",
       "      <td>EVYPCWEHD3NO60SVF2DD</td>\n",
       "      <td>ZW146UB6QZPD643Y4FJ3</td>\n",
       "      <td>2</td>\n",
       "      <td>2</td>\n",
       "    </tr>\n",
       "    <tr>\n",
       "      <td>1</td>\n",
       "      <td>2</td>\n",
       "      <td>WCB8KSCK643JQCORSFQ2</td>\n",
       "      <td>R2QG06ZY6NX9FS2HMAS5</td>\n",
       "      <td>0KL8GRMBK2PLB1TZR515</td>\n",
       "      <td>18</td>\n",
       "      <td>20</td>\n",
       "    </tr>\n",
       "    <tr>\n",
       "      <td>2</td>\n",
       "      <td>3</td>\n",
       "      <td>IGUC7NX29Z9WC7989OB0</td>\n",
       "      <td>6VZM0HTL86TV99POT26E</td>\n",
       "      <td>PLRTX6EWY6IJ2N0E138W</td>\n",
       "      <td>14</td>\n",
       "      <td>20</td>\n",
       "    </tr>\n",
       "    <tr>\n",
       "      <td>3</td>\n",
       "      <td>4</td>\n",
       "      <td>OLDI3GBOISKBC31PFSE8</td>\n",
       "      <td>R2QG06ZY6NX9FS2HMAS5</td>\n",
       "      <td>2R8GFDQPRYK2VNKLSIFW</td>\n",
       "      <td>17</td>\n",
       "      <td>20</td>\n",
       "    </tr>\n",
       "    <tr>\n",
       "      <td>4</td>\n",
       "      <td>5</td>\n",
       "      <td>XQJHIUGB1ZY6GX5PYLF6</td>\n",
       "      <td>717D9JTDZT13NQ79YP66</td>\n",
       "      <td>TP0X7W55O4MHUOSQKI3B</td>\n",
       "      <td>1</td>\n",
       "      <td>2</td>\n",
       "    </tr>\n",
       "  </tbody>\n",
       "</table>\n",
       "</div>"
      ],
      "text/plain": [
       "   user_test_score_id                cv_uid              test_nid  \\\n",
       "0                   1  GEW2S6U24ZMJTSJLEPTK  EVYPCWEHD3NO60SVF2DD   \n",
       "1                   2  WCB8KSCK643JQCORSFQ2  R2QG06ZY6NX9FS2HMAS5   \n",
       "2                   3  IGUC7NX29Z9WC7989OB0  6VZM0HTL86TV99POT26E   \n",
       "3                   4  OLDI3GBOISKBC31PFSE8  R2QG06ZY6NX9FS2HMAS5   \n",
       "4                   5  XQJHIUGB1ZY6GX5PYLF6  717D9JTDZT13NQ79YP66   \n",
       "\n",
       "                 sub_id  point  total  \n",
       "0  ZW146UB6QZPD643Y4FJ3      2      2  \n",
       "1  0KL8GRMBK2PLB1TZR515     18     20  \n",
       "2  PLRTX6EWY6IJ2N0E138W     14     20  \n",
       "3  2R8GFDQPRYK2VNKLSIFW     17     20  \n",
       "4  TP0X7W55O4MHUOSQKI3B      1      2  "
      ]
     },
     "execution_count": 27,
     "metadata": {},
     "output_type": "execute_result"
    }
   ],
   "source": [
    "cvocp_user_test_score.head()\n",
    "# cont. var - point total"
   ]
  },
  {
   "cell_type": "code",
   "execution_count": 40,
   "metadata": {},
   "outputs": [],
   "source": [
    "user_test_score=cvocp_user_test_score.copy()\n",
    "user_test_score['percent']=user_test_score_agg['point']/user_test_score_agg['total']*100\n",
    "user_test_score_agg=user_test_score[['cv_uid','percent']].agg(['min','max','std','mean'])"
   ]
  },
  {
   "cell_type": "code",
   "execution_count": 28,
   "metadata": {
    "colab": {
     "base_uri": "https://localhost:8080/",
     "height": 309
    },
    "id": "eA2YyJOu9vtJ",
    "outputId": "3041f16e-a072-4931-868d-2dac2f3f472c"
   },
   "outputs": [
    {
     "data": {
      "text/html": [
       "<div>\n",
       "<style scoped>\n",
       "    .dataframe tbody tr th:only-of-type {\n",
       "        vertical-align: middle;\n",
       "    }\n",
       "\n",
       "    .dataframe tbody tr th {\n",
       "        vertical-align: top;\n",
       "    }\n",
       "\n",
       "    .dataframe thead th {\n",
       "        text-align: right;\n",
       "    }\n",
       "</style>\n",
       "<table border=\"1\" class=\"dataframe\">\n",
       "  <thead>\n",
       "    <tr style=\"text-align: right;\">\n",
       "      <th></th>\n",
       "      <th>cv_cid</th>\n",
       "      <th>course_title</th>\n",
       "      <th>course_no</th>\n",
       "      <th>year</th>\n",
       "      <th>semester</th>\n",
       "      <th>instructor_string</th>\n",
       "      <th>course_start</th>\n",
       "      <th>course_end</th>\n",
       "      <th>reg_start</th>\n",
       "      <th>reg_end</th>\n",
       "      <th>roster_limit</th>\n",
       "      <th>reg_workflow</th>\n",
       "      <th>course_type</th>\n",
       "      <th>status</th>\n",
       "    </tr>\n",
       "  </thead>\n",
       "  <tbody>\n",
       "    <tr>\n",
       "      <td>0</td>\n",
       "      <td>USIS5STDNOBQGGHXDDG7</td>\n",
       "      <td>การควบคุมยาสูบ รุ่นที่ 4</td>\n",
       "      <td>TRC.2016</td>\n",
       "      <td>2016</td>\n",
       "      <td>1</td>\n",
       "      <td>NaN</td>\n",
       "      <td>0</td>\n",
       "      <td>0</td>\n",
       "      <td>0</td>\n",
       "      <td>0</td>\n",
       "      <td>45</td>\n",
       "      <td>invited_selfreg</td>\n",
       "      <td>selfpace</td>\n",
       "      <td>1</td>\n",
       "    </tr>\n",
       "    <tr>\n",
       "      <td>1</td>\n",
       "      <td>ODRCRDFROFTNYRC0PQU2</td>\n",
       "      <td>Survival Thai (2016)</td>\n",
       "      <td>CU.MOOC.0001</td>\n",
       "      <td>2016</td>\n",
       "      <td>2</td>\n",
       "      <td>NaN</td>\n",
       "      <td>1483491600</td>\n",
       "      <td>1496249999</td>\n",
       "      <td>1483491600</td>\n",
       "      <td>1485881999</td>\n",
       "      <td>14</td>\n",
       "      <td>invited_selfreg</td>\n",
       "      <td>selfpace</td>\n",
       "      <td>1</td>\n",
       "    </tr>\n",
       "    <tr>\n",
       "      <td>2</td>\n",
       "      <td>9W16HUAN3F0LB16BN1QC</td>\n",
       "      <td>การควบคุมยาสูบ รุ่นที่ 5</td>\n",
       "      <td>TRC.ELearning</td>\n",
       "      <td>2017</td>\n",
       "      <td>1</td>\n",
       "      <td>NaN</td>\n",
       "      <td>1501779600</td>\n",
       "      <td>1528736399</td>\n",
       "      <td>0</td>\n",
       "      <td>0</td>\n",
       "      <td>50</td>\n",
       "      <td>purchase_to_enroll</td>\n",
       "      <td>weekly</td>\n",
       "      <td>1</td>\n",
       "    </tr>\n",
       "    <tr>\n",
       "      <td>3</td>\n",
       "      <td>NTFBS3C5O5HPWTX9B8YJ</td>\n",
       "      <td>ภาษาอาหรับในชีวิตประจำวัน</td>\n",
       "      <td>CU.MOOC.0002</td>\n",
       "      <td>2017</td>\n",
       "      <td>1</td>\n",
       "      <td>อ. ดร.ทรงศักดิ์  หมัดสะและ</td>\n",
       "      <td>1504803600</td>\n",
       "      <td>1509469199</td>\n",
       "      <td>1504803600</td>\n",
       "      <td>1508086799</td>\n",
       "      <td>100</td>\n",
       "      <td>purchase_to_enroll</td>\n",
       "      <td>selfpace</td>\n",
       "      <td>1</td>\n",
       "    </tr>\n",
       "    <tr>\n",
       "      <td>4</td>\n",
       "      <td>P074WP7NLCCMPJ200PE8</td>\n",
       "      <td>การทำความเข้าใจงบการเงิน</td>\n",
       "      <td>CU.MOOC.0003</td>\n",
       "      <td>2017</td>\n",
       "      <td>1</td>\n",
       "      <td>ผศ. ดร.พิมพ์พนา ปีตธวัชชัย</td>\n",
       "      <td>1504803600</td>\n",
       "      <td>1509469199</td>\n",
       "      <td>1504803600</td>\n",
       "      <td>1508086799</td>\n",
       "      <td>2000</td>\n",
       "      <td>free_selfreg</td>\n",
       "      <td>selfpace</td>\n",
       "      <td>1</td>\n",
       "    </tr>\n",
       "  </tbody>\n",
       "</table>\n",
       "</div>"
      ],
      "text/plain": [
       "                 cv_cid               course_title      course_no  year  \\\n",
       "0  USIS5STDNOBQGGHXDDG7   การควบคุมยาสูบ รุ่นที่ 4       TRC.2016  2016   \n",
       "1  ODRCRDFROFTNYRC0PQU2       Survival Thai (2016)   CU.MOOC.0001  2016   \n",
       "2  9W16HUAN3F0LB16BN1QC   การควบคุมยาสูบ รุ่นที่ 5  TRC.ELearning  2017   \n",
       "3  NTFBS3C5O5HPWTX9B8YJ  ภาษาอาหรับในชีวิตประจำวัน   CU.MOOC.0002  2017   \n",
       "4  P074WP7NLCCMPJ200PE8   การทำความเข้าใจงบการเงิน   CU.MOOC.0003  2017   \n",
       "\n",
       "   semester           instructor_string  course_start  course_end   reg_start  \\\n",
       "0         1                         NaN             0           0           0   \n",
       "1         2                         NaN    1483491600  1496249999  1483491600   \n",
       "2         1                         NaN    1501779600  1528736399           0   \n",
       "3         1  อ. ดร.ทรงศักดิ์  หมัดสะและ    1504803600  1509469199  1504803600   \n",
       "4         1  ผศ. ดร.พิมพ์พนา ปีตธวัชชัย    1504803600  1509469199  1504803600   \n",
       "\n",
       "      reg_end  roster_limit        reg_workflow course_type  status  \n",
       "0           0            45     invited_selfreg    selfpace       1  \n",
       "1  1485881999            14     invited_selfreg    selfpace       1  \n",
       "2           0            50  purchase_to_enroll      weekly       1  \n",
       "3  1508086799           100  purchase_to_enroll    selfpace       1  \n",
       "4  1508086799          2000        free_selfreg    selfpace       1  "
      ]
     },
     "execution_count": 28,
     "metadata": {},
     "output_type": "execute_result"
    }
   ],
   "source": [
    "cvocp_course.head()\n",
    "# cat feature year??, semester, reg_workflow, course_type, status\n",
    "# cont. var - roster limit\n",
    "# time - course_start, course_end, reg_start, reg_end"
   ]
  },
  {
   "cell_type": "code",
   "execution_count": 29,
   "metadata": {
    "colab": {
     "base_uri": "https://localhost:8080/",
     "height": 289
    },
    "id": "MpIXXZsm-bH3",
    "outputId": "7f1d1ab5-9c84-4d91-bd73-7c57510063f8"
   },
   "outputs": [
    {
     "data": {
      "text/html": [
       "<div>\n",
       "<style scoped>\n",
       "    .dataframe tbody tr th:only-of-type {\n",
       "        vertical-align: middle;\n",
       "    }\n",
       "\n",
       "    .dataframe tbody tr th {\n",
       "        vertical-align: top;\n",
       "    }\n",
       "\n",
       "    .dataframe thead th {\n",
       "        text-align: right;\n",
       "    }\n",
       "</style>\n",
       "<table border=\"1\" class=\"dataframe\">\n",
       "  <thead>\n",
       "    <tr style=\"text-align: right;\">\n",
       "      <th></th>\n",
       "      <th>cv_cid</th>\n",
       "      <th>course_pretitle</th>\n",
       "      <th>course_title</th>\n",
       "      <th>course_description</th>\n",
       "    </tr>\n",
       "  </thead>\n",
       "  <tbody>\n",
       "    <tr>\n",
       "      <td>0</td>\n",
       "      <td>USIS5STDNOBQGGHXDDG7</td>\n",
       "      <td>TRC.2016 (2016/1)</td>\n",
       "      <td>การควบคุมยาสูบ รุ่นที่ 4</td>\n",
       "      <td>NaN</td>\n",
       "    </tr>\n",
       "    <tr>\n",
       "      <td>1</td>\n",
       "      <td>ODRCRDFROFTNYRC0PQU2</td>\n",
       "      <td>CU.MOOC.0001 (2016/2)</td>\n",
       "      <td>Survival Thai</td>\n",
       "      <td>&lt;p&gt;This &lt;strong&gt;Survival Thai&lt;/strong&gt; course ...</td>\n",
       "    </tr>\n",
       "    <tr>\n",
       "      <td>2</td>\n",
       "      <td>9W16HUAN3F0LB16BN1QC</td>\n",
       "      <td>TRC.ELearning (2017/1)</td>\n",
       "      <td>การควบคุมยาสูบ รุ่นที่ 5</td>\n",
       "      <td>NaN</td>\n",
       "    </tr>\n",
       "    <tr>\n",
       "      <td>3</td>\n",
       "      <td>NTFBS3C5O5HPWTX9B8YJ</td>\n",
       "      <td>CU.MOOC.0002 (2017/1)</td>\n",
       "      <td>ภาษาอาหรับในชีวิตประจำวัน</td>\n",
       "      <td>รายวิชาภาษาอาหรับในชีวิตประจำวัน จะเป็นการศึกษ...</td>\n",
       "    </tr>\n",
       "    <tr>\n",
       "      <td>4</td>\n",
       "      <td>P074WP7NLCCMPJ200PE8</td>\n",
       "      <td>CU.MOOC.0003 (2017/1)</td>\n",
       "      <td>การทำความเข้าใจงบการเงิน</td>\n",
       "      <td>รายวิชาการทำความเข้าใจงบการเงิน จะเป็นการศึกษา...</td>\n",
       "    </tr>\n",
       "  </tbody>\n",
       "</table>\n",
       "</div>"
      ],
      "text/plain": [
       "                 cv_cid         course_pretitle               course_title  \\\n",
       "0  USIS5STDNOBQGGHXDDG7       TRC.2016 (2016/1)   การควบคุมยาสูบ รุ่นที่ 4   \n",
       "1  ODRCRDFROFTNYRC0PQU2   CU.MOOC.0001 (2016/2)              Survival Thai   \n",
       "2  9W16HUAN3F0LB16BN1QC  TRC.ELearning (2017/1)   การควบคุมยาสูบ รุ่นที่ 5   \n",
       "3  NTFBS3C5O5HPWTX9B8YJ   CU.MOOC.0002 (2017/1)  ภาษาอาหรับในชีวิตประจำวัน   \n",
       "4  P074WP7NLCCMPJ200PE8   CU.MOOC.0003 (2017/1)   การทำความเข้าใจงบการเงิน   \n",
       "\n",
       "                                  course_description  \n",
       "0                                                NaN  \n",
       "1  <p>This <strong>Survival Thai</strong> course ...  \n",
       "2                                                NaN  \n",
       "3  รายวิชาภาษาอาหรับในชีวิตประจำวัน จะเป็นการศึกษ...  \n",
       "4  รายวิชาการทำความเข้าใจงบการเงิน จะเป็นการศึกษา...  "
      ]
     },
     "execution_count": 29,
     "metadata": {},
     "output_type": "execute_result"
    }
   ],
   "source": [
    "cv_course_poster.head()\n",
    "# text - course_description"
   ]
  },
  {
   "cell_type": "code",
   "execution_count": 30,
   "metadata": {
    "colab": {
     "base_uri": "https://localhost:8080/",
     "height": 272
    },
    "id": "6563UNv_6fii",
    "outputId": "8566a121-829e-48cc-d42a-cada08d65916"
   },
   "outputs": [
    {
     "data": {
      "text/html": [
       "<div>\n",
       "<style scoped>\n",
       "    .dataframe tbody tr th:only-of-type {\n",
       "        vertical-align: middle;\n",
       "    }\n",
       "\n",
       "    .dataframe tbody tr th {\n",
       "        vertical-align: top;\n",
       "    }\n",
       "\n",
       "    .dataframe thead th {\n",
       "        text-align: right;\n",
       "    }\n",
       "</style>\n",
       "<table border=\"1\" class=\"dataframe\">\n",
       "  <thead>\n",
       "    <tr style=\"text-align: right;\">\n",
       "      <th></th>\n",
       "      <th>cv_uid</th>\n",
       "      <th>education</th>\n",
       "      <th>occupation</th>\n",
       "      <th>gender</th>\n",
       "      <th>yearofbirth</th>\n",
       "      <th>residence</th>\n",
       "    </tr>\n",
       "  </thead>\n",
       "  <tbody>\n",
       "    <tr>\n",
       "      <td>0</td>\n",
       "      <td>KH8UA5P183ESRY8BQSNP</td>\n",
       "      <td>Above Bachelor Degree</td>\n",
       "      <td>Govenment/State Enterprise Employee</td>\n",
       "      <td>Male</td>\n",
       "      <td>1976.0</td>\n",
       "      <td>Bangkok</td>\n",
       "    </tr>\n",
       "    <tr>\n",
       "      <td>1</td>\n",
       "      <td>TFH3B91W13YZ8ZUJJC38</td>\n",
       "      <td>Above Bachelor Degree</td>\n",
       "      <td>Other</td>\n",
       "      <td>Male</td>\n",
       "      <td>1987.0</td>\n",
       "      <td>Bangkok</td>\n",
       "    </tr>\n",
       "    <tr>\n",
       "      <td>2</td>\n",
       "      <td>D3QMUHBVM4YI6MWUAPZL</td>\n",
       "      <td>Bachelor Degree</td>\n",
       "      <td>Other</td>\n",
       "      <td>Male</td>\n",
       "      <td>1989.0</td>\n",
       "      <td>Bangkok</td>\n",
       "    </tr>\n",
       "    <tr>\n",
       "      <td>3</td>\n",
       "      <td>7MG8V8F2J9AF2Y0PS2TZ</td>\n",
       "      <td>Above Bachelor Degree</td>\n",
       "      <td>Private Sector Employee</td>\n",
       "      <td>Male</td>\n",
       "      <td>1989.0</td>\n",
       "      <td>Bangkok</td>\n",
       "    </tr>\n",
       "    <tr>\n",
       "      <td>4</td>\n",
       "      <td>S4MFNN7NXR87BMQHYTN9</td>\n",
       "      <td>Above Bachelor Degree</td>\n",
       "      <td>Govenment/State Enterprise Employee</td>\n",
       "      <td>Male</td>\n",
       "      <td>1964.0</td>\n",
       "      <td>Bangkok</td>\n",
       "    </tr>\n",
       "  </tbody>\n",
       "</table>\n",
       "</div>"
      ],
      "text/plain": [
       "                 cv_uid              education  \\\n",
       "0  KH8UA5P183ESRY8BQSNP  Above Bachelor Degree   \n",
       "1  TFH3B91W13YZ8ZUJJC38  Above Bachelor Degree   \n",
       "2  D3QMUHBVM4YI6MWUAPZL        Bachelor Degree   \n",
       "3  7MG8V8F2J9AF2Y0PS2TZ  Above Bachelor Degree   \n",
       "4  S4MFNN7NXR87BMQHYTN9  Above Bachelor Degree   \n",
       "\n",
       "                            occupation gender  yearofbirth residence  \n",
       "0  Govenment/State Enterprise Employee   Male       1976.0   Bangkok  \n",
       "1                                Other   Male       1987.0   Bangkok  \n",
       "2                                Other   Male       1989.0   Bangkok  \n",
       "3              Private Sector Employee   Male       1989.0   Bangkok  \n",
       "4  Govenment/State Enterprise Employee   Male       1964.0   Bangkok  "
      ]
     },
     "execution_count": 30,
     "metadata": {},
     "output_type": "execute_result"
    }
   ],
   "source": [
    "cvocp_user_info.head()\n",
    "# cat feature - education, occupation, gender, residence\n",
    "# yearofbirth -> age "
   ]
  },
  {
   "cell_type": "code",
   "execution_count": 31,
   "metadata": {
    "colab": {
     "base_uri": "https://localhost:8080/",
     "height": 204
    },
    "id": "G67Y2uz-_qJw",
    "outputId": "3f138476-2656-487f-d88b-aa97221987d9"
   },
   "outputs": [
    {
     "data": {
      "text/html": [
       "<div>\n",
       "<style scoped>\n",
       "    .dataframe tbody tr th:only-of-type {\n",
       "        vertical-align: middle;\n",
       "    }\n",
       "\n",
       "    .dataframe tbody tr th {\n",
       "        vertical-align: top;\n",
       "    }\n",
       "\n",
       "    .dataframe thead th {\n",
       "        text-align: right;\n",
       "    }\n",
       "</style>\n",
       "<table border=\"1\" class=\"dataframe\">\n",
       "  <thead>\n",
       "    <tr style=\"text-align: right;\">\n",
       "      <th></th>\n",
       "      <th>v_id</th>\n",
       "      <th>cv_cid</th>\n",
       "      <th>video_source_id</th>\n",
       "    </tr>\n",
       "  </thead>\n",
       "  <tbody>\n",
       "    <tr>\n",
       "      <td>0</td>\n",
       "      <td>ZIDHTXVVXSQZX0ZH49CN</td>\n",
       "      <td>USIS5STDNOBQGGHXDDG7</td>\n",
       "      <td>VB79884A9OC2KYK6H3WB</td>\n",
       "    </tr>\n",
       "    <tr>\n",
       "      <td>1</td>\n",
       "      <td>0UYCENV1YISTZ2YP3MB8</td>\n",
       "      <td>USIS5STDNOBQGGHXDDG7</td>\n",
       "      <td>VB79884A9OC2KYK6H3WB</td>\n",
       "    </tr>\n",
       "    <tr>\n",
       "      <td>2</td>\n",
       "      <td>2MBAIA1WVYH7W6N91U9O</td>\n",
       "      <td>USIS5STDNOBQGGHXDDG7</td>\n",
       "      <td>VB79884A9OC2KYK6H3WB</td>\n",
       "    </tr>\n",
       "    <tr>\n",
       "      <td>3</td>\n",
       "      <td>MCTF3W40S5TKQD9QA8W9</td>\n",
       "      <td>USIS5STDNOBQGGHXDDG7</td>\n",
       "      <td>VB79884A9OC2KYK6H3WB</td>\n",
       "    </tr>\n",
       "    <tr>\n",
       "      <td>4</td>\n",
       "      <td>A2C3H4LCS2QEGJUIBNSP</td>\n",
       "      <td>USIS5STDNOBQGGHXDDG7</td>\n",
       "      <td>VB79884A9OC2KYK6H3WB</td>\n",
       "    </tr>\n",
       "  </tbody>\n",
       "</table>\n",
       "</div>"
      ],
      "text/plain": [
       "                   v_id                cv_cid       video_source_id\n",
       "0  ZIDHTXVVXSQZX0ZH49CN  USIS5STDNOBQGGHXDDG7  VB79884A9OC2KYK6H3WB\n",
       "1  0UYCENV1YISTZ2YP3MB8  USIS5STDNOBQGGHXDDG7  VB79884A9OC2KYK6H3WB\n",
       "2  2MBAIA1WVYH7W6N91U9O  USIS5STDNOBQGGHXDDG7  VB79884A9OC2KYK6H3WB\n",
       "3  MCTF3W40S5TKQD9QA8W9  USIS5STDNOBQGGHXDDG7  VB79884A9OC2KYK6H3WB\n",
       "4  A2C3H4LCS2QEGJUIBNSP  USIS5STDNOBQGGHXDDG7  VB79884A9OC2KYK6H3WB"
      ]
     },
     "execution_count": 31,
     "metadata": {},
     "output_type": "execute_result"
    }
   ],
   "source": [
    "cv_content_video.head()\n",
    "# id/link - video_source_id"
   ]
  },
  {
   "cell_type": "code",
   "execution_count": null,
   "metadata": {},
   "outputs": [],
   "source": []
  },
  {
   "cell_type": "code",
   "execution_count": 32,
   "metadata": {},
   "outputs": [
    {
     "data": {
      "text/plain": [
       "2020"
      ]
     },
     "execution_count": 32,
     "metadata": {},
     "output_type": "execute_result"
    }
   ],
   "source": [
    "datetime.datetime.now().year"
   ]
  },
  {
   "cell_type": "markdown",
   "metadata": {},
   "source": [
    "## Pre-processing data"
   ]
  },
  {
   "cell_type": "code",
   "execution_count": 33,
   "metadata": {},
   "outputs": [],
   "source": [
    "# User detail\n",
    "\n",
    "cat_user_info=['education','occupation','gender','residence']\n",
    "cont_user_info=['yearofbirth']\n",
    "\n",
    "# One hot encoding on categorical feature of user info data\n",
    "user_info_dummies=pd.get_dummies(cvocp_user_info,columns=cat_user_info)\n",
    "\n",
    "# convert yearofbirth to age\n",
    "current_year=datetime.datetime.now().year\n",
    "user_info_dummies['age']=user_info_dummies['yearofbirth'].apply(lambda x:current_year-x if x!=np.nan else null )\n",
    "\n",
    "user_info_dummies=user_info_dummies.drop(['yearofbirth'],axis=1)"
   ]
  },
  {
   "cell_type": "code",
   "execution_count": null,
   "metadata": {},
   "outputs": [],
   "source": [
    "# User testing score\n"
   ]
  },
  {
   "cell_type": "code",
   "execution_count": 34,
   "metadata": {
    "id": "7c0tx3M2DHP_"
   },
   "outputs": [],
   "source": [
    "# get course of user\n",
    "user_course=cvocp_user_course_timing[['cv_uid','cv_cid','timestamp']].drop_duplicates().sort_values(by='timestamp',ascending=True)"
   ]
  },
  {
   "cell_type": "code",
   "execution_count": null,
   "metadata": {},
   "outputs": [],
   "source": [
    "\n"
   ]
  },
  {
   "cell_type": "code",
   "execution_count": 35,
   "metadata": {},
   "outputs": [],
   "source": [
    "# course detail"
   ]
  },
  {
   "cell_type": "code",
   "execution_count": 36,
   "metadata": {
    "id": "4JgHz7pYxpw3"
   },
   "outputs": [],
   "source": [
    "def get_sim_order(mat_old,mat_new):\n",
    "  cosine_sim=dot(mat_old, mat_new)/(norm(mat_old)*norm(mat_new))\n",
    "  return np.argsort(cosine_sim, axis=0)\n",
    "  #return list of index of similarity score from max to min"
   ]
  },
  {
   "cell_type": "code",
   "execution_count": 37,
   "metadata": {
    "id": "yYeDDrJJy2Mc"
   },
   "outputs": [],
   "source": [
    "def map_index():\n",
    "  pass"
   ]
  },
  {
   "cell_type": "code",
   "execution_count": 38,
   "metadata": {},
   "outputs": [],
   "source": [
    "def eval_by_rank(groud_truth,pred):\n",
    "    pass"
   ]
  }
 ],
 "metadata": {
  "colab": {
   "name": "chulamoocs_recsys.ipynb",
   "provenance": []
  },
  "kernelspec": {
   "display_name": "Python 3",
   "language": "python",
   "name": "python3"
  },
  "language_info": {
   "codemirror_mode": {
    "name": "ipython",
    "version": 3
   },
   "file_extension": ".py",
   "mimetype": "text/x-python",
   "name": "python",
   "nbconvert_exporter": "python",
   "pygments_lexer": "ipython3",
   "version": "3.7.4"
  }
 },
 "nbformat": 4,
 "nbformat_minor": 4
}
